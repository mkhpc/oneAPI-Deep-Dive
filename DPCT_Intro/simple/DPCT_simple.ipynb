{
 "cells": [
  {
   "cell_type": "markdown",
   "metadata": {},
   "source": [
    "# Migrate a Simple Program\n",
    "\n",
    "## Learning Objective\n",
    "\n",
    "* Use the Intel® DPC++ Compatibility Tool to quickly assist in the migration of simple user CUDA* code to DPC++ code\n",
    "\n",
    "For relatively simple projects, the Intel® DPC++ Compatibility Tool (dpct) can be invoked directly on the user source CUDA code directly. In this exercise, we will walk you though step-by-step to migrate a simple vector add CUDA* program (*vector_add.cu*). \n",
    "\n",
    "## Step 1. Examine the source CUDA code by executing the following cell."
   ]
  },
  {
   "cell_type": "code",
   "execution_count": null,
   "metadata": {},
   "outputs": [],
   "source": [
    "%pycat vector_add.cu"
   ]
  },
  {
   "cell_type": "markdown",
   "metadata": {},
   "source": [
    "## Step 2, Migrate the source file to DPC++ by runnning the Intel DPC++ Compatibility Tool on *vector_add.cu*\n",
    "We will use the *dpct --out-root* option to specify an output directory.\n",
    "\n",
    "**NOTE:  If your CUDA language header files are not located at the default location (/usr/local/cuda-[version]/include), you'll need to add the *--cuda-include-path=<path/to/cuda/include>* option to the following <i>dpct</i> command.**"
   ]
  },
  {
   "cell_type": "code",
   "execution_count": null,
   "metadata": {},
   "outputs": [],
   "source": [
    "! dpct --out-root dpct_output vector_add.cu"
   ]
  },
  {
   "cell_type": "markdown",
   "metadata": {},
   "source": [
    "## Step 3. Review the Result and Edit the File\n",
    "After executing the above cell, The generated DPC++ file *vector_add.dp.cpp* should appear in the dpct_output directory. \n",
    "\n",
    "Notice there was a warning message DPCT1003. The compatibility tool was not able to 100% migrate the code, so manual editing is necessary.\n",
    "\n",
    "### Examine the file by **executing** the following cell.\n",
    "This will create a new cell containing the migrated code.\n",
    "\n",
    "Look for the diagnostic message DPCT1003. DPCT messages such as this are logged in as comments in the migrated source files for easy discovery. With the message and ID, you will be able to refer to the Compatibility Tool [Diagnostic Reference](https://software.intel.com/content/www/us/en/develop/documentation/intel-dpcpp-compatibility-tool-user-guide/top/diagnostics-reference.html) for information on how to resolve the issue.\n",
    "\n",
    "In this case, the original CUDA call `cudaMemcpy` was migrated to DPC++. However, because CUDA uses error codes while DPC++ uses exceptions to handle errors, the dpct tool added the DPCT1003 message in the comments to indicate additional manual edits are likely necessary.\n",
    "\n",
    "### Resolve the issue\n",
    "To manually resolve the issue, simply remove the variable `status` since it's not needed.\n",
    "After the code is fixed, execute the cell with the dpc++ code to write it to file."
   ]
  },
  {
   "cell_type": "code",
   "execution_count": null,
   "metadata": {},
   "outputs": [],
   "source": [
    "%run ../read_file_to_edit.py dpct_output/vector_add.dp.cpp"
   ]
  },
  {
   "cell_type": "markdown",
   "metadata": {},
   "source": [
    "### Step 4. Compile and run the code\n",
    "\n",
    "After the code is fully migrated, we can now compile it with the *dpcpp* compiler by executing the following cell."
   ]
  },
  {
   "cell_type": "code",
   "execution_count": null,
   "metadata": {},
   "outputs": [],
   "source": [
    "! dpcpp dpct_output/vector_add.dp.cpp"
   ]
  },
  {
   "cell_type": "markdown",
   "metadata": {},
   "source": [
    "Once done, execute the code with the following cell. If you encounter errors, fix the code, run the cell write to file again, and compile again."
   ]
  },
  {
   "cell_type": "code",
   "execution_count": null,
   "metadata": {},
   "outputs": [],
   "source": [
    "! ./a.out"
   ]
  },
  {
   "cell_type": "markdown",
   "metadata": {},
   "source": [
    "### Results\n",
    "You should see in the outputs a list of even numbers which is what our kernel code generates *((index+1) + (index+1))*.\n",
    "\n",
    "## Conclusion\n",
    "You have now successfully migrated a simple CUDA program to DPC++ with the help of the Intel DPC++ Compatibility Tool."
   ]
  },
  {
   "cell_type": "markdown",
   "metadata": {},
   "source": [
    "***\n",
    "\n",
    "@Intel Corporation | [\\*Trademark](https://www.intel.com/content/www/us/en/legal/trademarks.html)"
   ]
  }
 ],
 "metadata": {
  "kernelspec": {
   "display_name": "Python 3.7 (Intel® oneAPI)",
   "language": "python",
   "name": "c009-intel_distribution_of_python_3_oneapi-beta05-python"
  },
  "language_info": {
   "codemirror_mode": {
    "name": "ipython",
    "version": 3
   },
   "file_extension": ".py",
   "mimetype": "text/x-python",
   "name": "python",
   "nbconvert_exporter": "python",
   "pygments_lexer": "ipython3",
   "version": "3.9.7"
  }
 },
 "nbformat": 4,
 "nbformat_minor": 4
}

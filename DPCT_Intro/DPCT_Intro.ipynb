{
 "cells": [
  {
   "cell_type": "markdown",
   "metadata": {},
   "source": [
    "# Intel® DPC++ Compatibility Tool Introduction\n",
    "\n",
    "The Intel® DPC++ Compatibility Tool (Compatibility Tool) assists in the migration of a developer's program that is written in CUDA* to a program written in Data Parallel C++ (DPC++) , which is based on modern C++ and incorporates portable industry standards such as SYCL*.\n",
    "\n",
    "Visit the [Intel® DPC++ Compatibility Tool User Guide](https://software.intel.com/content/www/us/en/develop/documentation/intel-dpcpp-compatibility-tool-user-guide/top.html) for additional information about the tool. Visit the Release Notes for known issues and the most up-to-date information.\n",
    "\n",
    "<p style=\"background:gray;color:white\">\n",
    "**NOTE:**  Migration will result into a project that is not entirely converted. Additional work, as outlined by the output of the Intel® DPC++ Compatibility Tool, is required to complete the conversion\n",
    "</p>"
   ]
  },
  {
   "cell_type": "markdown",
   "metadata": {},
   "source": [
    "## Before You Begin\n",
    "The Intel® DPC++ Compatibility Tool is included in the Intel® oneAPI Base Toolkit . If you have not installed the Intel® oneAPI Base Toolkit , follow the instructions in the Installation Guide .\n",
    "\n",
    "Certain CUDA* header files may need to be accessible to the Compatibility Tool. These are not provided with the Intel® DPC++ Compatibility Tool. You may need to make them available to the tool by pointing to them with the --cuda-include-path=<path/to/cuda/include> option when invoking the Intel® DPC++ Compatibility Tool command line *dpct*.\n",
    "\n",
    "If this option is not specified, then the Intel® DPC++ Compatibility Tool looks for the CUDA header files in /usr/local/cuda/include and /usr/local/cuda-[version]/include.\n",
    "\n",
    "To setup the Intel® DPC++ Compatibility Tool environment, run:\n",
    "* On Linux: source /Path/to/dpcpp-ct/env/vars.sh or /oneapi_installation_path/setvars.sh\n",
    "* On Windows: Drive:\\Path\\to\\dpcpp-ct\\env\\vars.bat or use the oneAPI\n",
    "\n",
    "The environment needs to be set prior to executing these Jupyter Noteboks."
   ]
  },
  {
   "cell_type": "markdown",
   "metadata": {},
   "source": [
    "## Migration Workflow Overview\n",
    "In most case, migration of user’s CUDA source code to DPC++ code with the Intel® DPC++ Compatibility Tool can be divided in to three stages: preparation, migration, and review.\n",
    "\n",
    "<img src=\"Assets/steps.png\">\n",
    "\n",
    "In the preparation stage, project directory is cleaned, compile options are noted, and in some cases source files may need to be modified. For most Makefile-based projects, we recommend running the intercept-build script which tracks and saves the compilation commands, compilation flags, and options automatically in a JSON file. For Microsoft* Visual Studio projects, ensure the .vcxproj file exists which can be passed to the *dpct* migration tool to keep track of project options. For simple projects, compile options and macros could be manually specified when running *dpct*.  When running intercept-build in a command line, specify the build command.\n",
    "\n",
    "```intercept-build make```\n",
    "\n",
    "In the migration stage, the Compatibility Tool executable dpct is run. It takes in the original application as an input, analyzes its headers and sources as well as the generated compile_commands.json if it exists, and outputs DPC++ code and reports.\n",
    "\n",
    "```dpct -p ./ --in-root=./ --out-root=output *.cu```\n",
    "\n",
    "If intercept-build was not run, compile options can also be specified manually as *dpct* arguments.\n",
    "\n",
    "```dpct --out-root=output source.cu –extra-arg=”-I./include” --extra-arg=”-DBUILD_CUDA”```\n",
    "\n",
    "In the final review stage, manual verification and edits are required. For parts of the code that the Compatibility Tool is unable to migrate, the user will need to fix the migrated code and ensure correctness. For portions of code that require manual intervention, DPCT messages are logged in as comments in the migrated source files for easy discovery. For information on manually complete the migration process based on the DPCT messages, refer to the [Diagnostics Reference of the Compatibility Tool User Guide](https://software.intel.com/content/www/us/en/develop/documentation/intel-dpcpp-compatibility-tool-user-guide/top/diagnostics-reference.html).\n",
    "\n",
    "The following diagram illustrate the workflow and the files generated when using the Compatibility Tool.\n",
    "\n",
    "<img src=\"Assets/flow.JPG\">"
   ]
  },
  {
   "cell_type": "markdown",
   "metadata": {},
   "source": [
    "## dpct options\n",
    "\n",
    "For a list of dpct options available, see the [User Guide](https://software.intel.com/content/www/us/en/develop/documentation/intel-dpcpp-compatibility-tool-user-guide/top.html)  or invoke the ```dpct --help``` from command line. Use the ```dpct -- -help``` command to see the list of the language parcer (Clang*) options. Executing the following Jupyter cell is equivalent to executing ```dpct --help```."
   ]
  },
  {
   "cell_type": "code",
   "execution_count": null,
   "metadata": {},
   "outputs": [],
   "source": [
    "! dpct --help"
   ]
  },
  {
   "cell_type": "markdown",
   "metadata": {},
   "source": [
    "## Exercises\n",
    "Now that we've discussed the Intel DPC++ Compatibility Tool basics, let's try the tool on some real-world programs.\n",
    "\n",
    "### Exercise 1: [Migrate a simple CUDA* program](simple/DPCT_simple.ipynb)"
   ]
  },
  {
   "cell_type": "markdown",
   "metadata": {},
   "source": [
    "## Resources\n",
    "\n",
    "Check out these related resources\n",
    "\n",
    "#### Intel® oneAPI\n",
    "* [oneAPI main page](https://software.intel.com/oneapi \"oneAPI main page\")\n",
    "* [Intel® DevCloud](https://software.intel.com/en-us/devcloud/oneapi \"Intel DevCloud\")\n",
    "* [Get Started with oneAPI for Linux*](https://software.intel.com/en-us/get-started-with-intel-oneapi-linux)\n",
    "* [Get Started with oneAPI for Windows*](https://software.intel.com/en-us/get-started-with-intel-oneapi-windows)\n",
    "* [oneAPI Release Notes](https://software.intel.com/en-us/articles/intel-oneapi-release-notes)\n",
    "* [oneAPI Sample Codes](https://software.intel.com/en-us/articles/code-samples-for-intel-oneapibeta-toolkits)\n",
    "\n",
    "***\n",
    "\n",
    "@Intel Corporation | [\\*Trademark](https://www.intel.com/content/www/us/en/legal/trademarks.html)"
   ]
  }
 ],
 "metadata": {
  "kernelspec": {
   "display_name": "Python 3.7 (Intel® oneAPI)",
   "language": "python",
   "name": "c009-intel_distribution_of_python_3_oneapi-beta05-python"
  },
  "language_info": {
   "codemirror_mode": {
    "name": "ipython",
    "version": 3
   },
   "file_extension": ".py",
   "mimetype": "text/x-python",
   "name": "python",
   "nbconvert_exporter": "python",
   "pygments_lexer": "ipython3",
   "version": "3.9.7"
  }
 },
 "nbformat": 4,
 "nbformat_minor": 4
}
